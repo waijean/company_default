{
 "cells": [
  {
   "cell_type": "code",
   "execution_count": null,
   "metadata": {},
   "outputs": [],
   "source": [
    "import pandas as pd\n",
    "from sklearn.pipeline import make_pipeline\n",
    "from imblearn.pipeline import make_pipeline as make_pipeline_with_sampler\n",
    "from sklearn.impute import SimpleImputer\n",
    "from imblearn.under_sampling import RandomUnderSampler\n",
    "from sklearn.ensemble import RandomForestClassifier\n",
    "from sklearn.model_selection import train_test_split\n",
    "from sklearn.model_selection import StratifiedKFold, cross_validate\n",
    "from sklearn.metrics import (\n",
    "    balanced_accuracy_score,\n",
    "    classification_report,\n",
    "    confusion_matrix,\n",
    "    plot_confusion_matrix,\n",
    "    precision_recall_fscore_support,\n",
    "    precision_score,\n",
    "    recall_score,\n",
    "    roc_curve,\n",
    "    roc_auc_score,\n",
    "    precision_recall_curve,\n",
    "    auc,\n",
    ")\n",
    "import matplotlib.pyplot as plt\n",
    "\n",
    "%matplotlib inline\n",
    "%load_ext nb_black"
   ]
  },
  {
   "cell_type": "code",
   "execution_count": null,
   "metadata": {},
   "outputs": [],
   "source": [
    "df = pd.read_csv(\"../data/input/train.csv\", index_col=\"company_id\")"
   ]
  },
  {
   "cell_type": "code",
   "execution_count": null,
   "metadata": {},
   "outputs": [],
   "source": [
    "pipeline = make_pipeline_with_sampler(\n",
    "    SimpleImputer(strategy=\"constant\", fill_value=0),\n",
    "    #     RandomUnderSampler(random_state=42),\n",
    "    RandomForestClassifier(random_state=42),\n",
    ")"
   ]
  },
  {
   "cell_type": "markdown",
   "metadata": {},
   "source": [
    "## Single train test split"
   ]
  },
  {
   "cell_type": "code",
   "execution_count": null,
   "metadata": {},
   "outputs": [],
   "source": [
    "X = df.iloc[:, :-1]\n",
    "y = df.iloc[:, -1]\n",
    "X_train, X_test, y_train, y_test = train_test_split(\n",
    "    X, y, stratify=y, test_size=0.2, random_state=42\n",
    ")"
   ]
  },
  {
   "cell_type": "code",
   "execution_count": null,
   "metadata": {},
   "outputs": [],
   "source": [
    "pipeline = pipeline.fit(X_train, y_train)\n",
    "y_pred = pipeline.predict(X_test)\n",
    "bal_acc = balanced_accuracy_score(y_test, y_pred)\n",
    "precision, recall, fscore, support = precision_recall_fscore_support(y_test, y_pred)"
   ]
  },
  {
   "cell_type": "code",
   "execution_count": null,
   "metadata": {},
   "outputs": [],
   "source": [
    "print(f\"Balanced accuracy score : {bal_acc:.3f}\")\n",
    "print(f\"Precision : {precision[1]:.3f}\")\n",
    "print(f\"Recall : {recall[1]:.3f}\")\n",
    "print(f\"Fscore : {fscore[1]:.3f}\")\n",
    "print(f\"Support : {support[1]:.3f}\")"
   ]
  },
  {
   "cell_type": "code",
   "execution_count": null,
   "metadata": {},
   "outputs": [],
   "source": [
    "classification_report(y_test, y_pred)"
   ]
  },
  {
   "cell_type": "code",
   "execution_count": null,
   "metadata": {},
   "outputs": [],
   "source": [
    "# confusion_matrix(y_test, y_pred)\n",
    "plot_confusion_matrix(pipeline, X_test, y_test)"
   ]
  },
  {
   "cell_type": "code",
   "execution_count": null,
   "metadata": {},
   "outputs": [],
   "source": [
    "y_pred_proba = pipeline.predict_proba(X_test)\n",
    "y_pred_proba_positive = y_pred_proba[:, 1]"
   ]
  },
  {
   "cell_type": "code",
   "execution_count": null,
   "metadata": {},
   "outputs": [],
   "source": [
    "# calculate roc curve for model\n",
    "fpr, tpr, _ = roc_curve(y_test, y_pred_proba_positive)\n",
    "# plot no skill roc curve\n",
    "plt.plot([0, 1], [0, 1], linestyle=\"--\", label=\"Baseline\")\n",
    "# plot model roc curve\n",
    "plt.plot(fpr, tpr, marker=\".\", label=\"Random Forest\")\n",
    "# axis labels\n",
    "plt.xlabel(\"False Positive Rate\")\n",
    "plt.ylabel(\"True Positive Rate\")\n",
    "# show the legend\n",
    "plt.legend()\n",
    "\n",
    "\n",
    "# calculate roc auc score\n",
    "roc_auc = roc_auc_score(y_test, y_pred_proba_positive)\n",
    "print(f\"ROC AUC : {roc_auc:.3f}\")"
   ]
  },
  {
   "cell_type": "code",
   "execution_count": null,
   "metadata": {},
   "outputs": [],
   "source": [
    "# calculate precision recall curve for model\n",
    "precision, recall, _ = precision_recall_curve(y_test, y_pred_proba_positive)\n",
    "# plot no skill precision recall curve\n",
    "baseline = len(y_test[y_test == 1]) / len(y_test)\n",
    "plt.plot([0, 1], [baseline, baseline], linestyle=\"--\", label=\"Baseline\")\n",
    "# plot model precision recall curve\n",
    "plt.plot(recall, precision, marker=\".\", label=\"Random Forest\")\n",
    "# axis labels\n",
    "plt.xlabel(\"Recall\")\n",
    "plt.ylabel(\"Precision\")\n",
    "# show the legend\n",
    "plt.legend()\n",
    "\n",
    "# calculate precision recall auc score\n",
    "precision_recall_auc_score = auc(recall, precision)\n",
    "print(f\"Precision Recall AUC : {precision_recall_auc_score:.3f}\")"
   ]
  },
  {
   "cell_type": "code",
   "execution_count": null,
   "metadata": {},
   "outputs": [],
   "source": [
    "plt.hist(y_pred_proba_positive, bins=100)\n",
    "plt.title(\"Histogram plot for predicted probability of positive class\")\n",
    "plt.show()"
   ]
  },
  {
   "cell_type": "code",
   "execution_count": null,
   "metadata": {},
   "outputs": [],
   "source": [
    "precision, recall, threshold = precision_recall_curve(y_test, y_pred_proba_positive)\n",
    "pd.DataFrame(\n",
    "    data={\"threshold\": threshold, \"precision\": precision[:-1], \"recall\": recall[:-1]}\n",
    ").set_index(\"threshold\")"
   ]
  },
  {
   "cell_type": "markdown",
   "metadata": {},
   "source": [
    "### Cross validation"
   ]
  },
  {
   "cell_type": "code",
   "execution_count": null,
   "metadata": {},
   "outputs": [],
   "source": [
    "cv = StratifiedKFold(n_splits=5, random_state=42, shuffle=True)\n",
    "scoring = [\"accuracy\", \"balanced_accuracy\", \"precision\", \"recall\", \"roc_auc\"]\n",
    "cv_results = cross_validate(\n",
    "    estimator=pipeline,\n",
    "    X=X,\n",
    "    y=y,\n",
    "    scoring=scoring,\n",
    "    cv=cv,\n",
    "    n_jobs=-1,\n",
    "    return_train_score=True,\n",
    "    return_estimator=True,\n",
    ")"
   ]
  },
  {
   "cell_type": "code",
   "execution_count": null,
   "metadata": {},
   "outputs": [],
   "source": [
    "pd.DataFrame(cv_results).drop(\"estimator\", axis=1)"
   ]
  }
 ],
 "metadata": {
  "kernelspec": {
   "display_name": "company_default",
   "language": "python",
   "name": "company_default"
  },
  "language_info": {
   "codemirror_mode": {
    "name": "ipython",
    "version": 3
   },
   "file_extension": ".py",
   "mimetype": "text/x-python",
   "name": "python",
   "nbconvert_exporter": "python",
   "pygments_lexer": "ipython3",
   "version": "3.7.1"
  }
 },
 "nbformat": 4,
 "nbformat_minor": 2
}
