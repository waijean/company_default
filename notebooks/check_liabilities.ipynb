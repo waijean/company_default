{
 "cells": [
  {
   "cell_type": "code",
   "execution_count": null,
   "metadata": {},
   "outputs": [],
   "source": [
    "import pandas as pd\n",
    "\n",
    "pd.set_option(\"display.max_columns\", None)\n",
    "from IPython.core.display import display, HTML\n",
    "\n",
    "display(HTML(\"<style>.container { width:100% !important; }</style>\"))\n",
    "import numpy as np\n",
    "\n",
    "import plotly.figure_factory as ff\n",
    "import plotly.express as px\n",
    "import seaborn as sns\n",
    "import matplotlib.pyplot as plt\n",
    "\n",
    "%load_ext nb_black"
   ]
  },
  {
   "cell_type": "code",
   "execution_count": null,
   "metadata": {},
   "outputs": [],
   "source": [
    "df = pd.read_csv(\"../data/train.csv\", index_col=\"company_id\")"
   ]
  },
  {
   "cell_type": "code",
   "execution_count": null,
   "metadata": {},
   "outputs": [],
   "source": [
    "df.info()"
   ]
  },
  {
   "cell_type": "markdown",
   "metadata": {},
   "source": [
    "## calculate long-term liabilities\n",
    "\n",
    "1. use total liabilities - short-term liabilities \n",
    "2. use equity * long term liabilities /  equity (1 missing and 4444 zeros)\n",
    "\n",
    "Long term liabilities calculated using method 1 is usually larger than method 2. \n",
    "Could it be that short-term liabilities is just a subset of current liabilities?\n",
    "\n",
    "We can test this out by calculating total liabilities minus current liabilities and compare this method 3 to method 2\n",
    "\n",
    "To get current liabilities we need cost of products sold to reverse (current liabilities * 365) / cost of products sold\n",
    "\n",
    "To get cost of products sold we need sales to use (sales - cost of products sold) / sales "
   ]
  },
  {
   "cell_type": "code",
   "execution_count": null,
   "metadata": {},
   "outputs": [],
   "source": [
    "def calculate_long_term_liabilities(df):\n",
    "    new_df = df.assign(\n",
    "        **{\n",
    "            \"total_assets\": 10 ** df[\"logarithm of total assets\"],\n",
    "            \"total_liabilities\": lambda df: df[\"total liabilities / total assets\"]\n",
    "            * df[\"total_assets\"],\n",
    "            \"short_term_liabilities\": lambda df: df[\n",
    "                \"short-term liabilities / total assets\"\n",
    "            ]\n",
    "            * df[\"total_assets\"],\n",
    "            \"equity\": lambda df: df[\"equity / total assets\"] * df[\"total_assets\"],\n",
    "            \"long_term_liabilities_method_1\": lambda df: df[\"total_liabilities\"]\n",
    "            - df[\"short_term_liabilities\"],\n",
    "            \"long_term_liabilities_method_2\": lambda df: df[\n",
    "                \"long-term liabilities / equity\"\n",
    "            ]\n",
    "            * df[\"equity\"],\n",
    "        }\n",
    "    )\n",
    "    return new_df[\n",
    "        [\n",
    "            \"total_assets\",\n",
    "            \"total_liabilities\",\n",
    "            \"short_term_liabilities\",\n",
    "            \"equity\",\n",
    "            \"long_term_liabilities_method_1\",\n",
    "            \"long_term_liabilities_method_2\",\n",
    "            \"bankruptcy_label\",\n",
    "        ]\n",
    "    ]"
   ]
  },
  {
   "cell_type": "code",
   "execution_count": null,
   "metadata": {},
   "outputs": [],
   "source": [
    "preprocessed_df = calculate_long_term_liabilities(df)\n",
    "preprocessed_df.sample(10)"
   ]
  },
  {
   "cell_type": "code",
   "execution_count": null,
   "metadata": {},
   "outputs": [],
   "source": [
    "def compare_col(df, col1, col2, atol, rtol=0, sample=True):\n",
    "    mask = np.isclose(df[col1], df[col2], atol=atol, rtol=rtol)\n",
    "    print(\n",
    "        f\"Number of rows which have absolute difference more than {atol}: {len(df[~mask])}\"\n",
    "    )\n",
    "    if sample:\n",
    "        return df[~mask].sample(10)\n",
    "    else:\n",
    "        return df[~mask]\n",
    "\n",
    "\n",
    "compare_col(\n",
    "    preprocessed_df,\n",
    "    [\"long_term_liabilities_method_1\"],\n",
    "    [\"long_term_liabilities_method_2\"],\n",
    "    atol=1000,\n",
    ")"
   ]
  },
  {
   "cell_type": "markdown",
   "metadata": {},
   "source": [
    "### definition of short-term liabilities might differ depends on context\n",
    "\n",
    "Dataset gives us three ways of calculating account payable days\n",
    "\n",
    "1. (short-term liabilities * 365) / cost of products sold)\n",
    "2. (short-term liabilities *365) / sales\n",
    "3. (current liabilities * 365) / cost of products sold\n",
    "\n",
    "Let's define the short-term liabilities calculated from **short-term liabilites / total assets** as the **True** short-term liabilites\n",
    "\n",
    "Observation:\n",
    "- short-term liabilities in the first column is much less compared to the true short-term liabilities\n",
    "- short-term liabilities in the second and third columns is equal to the true short-term liabilities\n",
    "\n",
    "Based on domain knowledge, **payable days = (payables * 365) / cost of products sold)** and payables are usually a subset of short-term liabilities.\n",
    "\n",
    "Therefore, short-term liabilities in the first column might actually be payables"
   ]
  },
  {
   "cell_type": "code",
   "execution_count": null,
   "metadata": {},
   "outputs": [],
   "source": [
    "cols = [\n",
    "    \"(short-term liabilities * 365) / cost of products sold)\",\n",
    "    \"(current liabilities * 365) / cost of products sold\",\n",
    "]\n",
    "\n",
    "df[cols]"
   ]
  },
  {
   "cell_type": "code",
   "execution_count": null,
   "metadata": {},
   "outputs": [],
   "source": [
    "def calculate_current_liabilities(df):\n",
    "    new_df = df.assign(\n",
    "        **{\n",
    "            \"total_assets\": 10 ** df[\"logarithm of total assets\"],\n",
    "            \"sales_method_1\": lambda df: df[\"sales / total assets\"]\n",
    "            * df[\"total_assets\"],\n",
    "            \"gross_profit\": lambda df: df[\"gross profit / total assets\"]\n",
    "            * df[\"total_assets\"],\n",
    "            \"sales_method_3\": lambda df: df[\"gross_profit\"]\n",
    "            / df[\"gross profit / sales\"],\n",
    "            \"sales_method_8\": lambda df: df[\"sales_method_3\"].combine_first(\n",
    "                df[\"sales_method_1\"]\n",
    "            ),\n",
    "            \"COPS\": lambda df: (\n",
    "                df[\"(sales - cost of products sold) / sales\"]\n",
    "                * df[\"sales_method_8\"]\n",
    "                * -1\n",
    "            )\n",
    "            + df[\"sales_method_8\"],\n",
    "            \"current_liabilities\": lambda df: (\n",
    "                df[\"(current liabilities * 365) / cost of products sold\"] / 365\n",
    "            )\n",
    "            * df[\"COPS\"],\n",
    "        }\n",
    "    )\n",
    "    return new_df[[\"current_liabilities\",]]"
   ]
  },
  {
   "cell_type": "code",
   "execution_count": null,
   "metadata": {},
   "outputs": [],
   "source": [
    "def calculate_short_term_liabilities_from_APD2(df):\n",
    "    new_df = df.assign(\n",
    "        **{\n",
    "            \"total_assets\": 10 ** df[\"logarithm of total assets\"],\n",
    "            \"sales_method_1\": lambda df: df[\"sales / total assets\"]\n",
    "            * df[\"total_assets\"],\n",
    "            \"gross_profit\": lambda df: df[\"gross profit / total assets\"]\n",
    "            * df[\"total_assets\"],\n",
    "            \"sales_method_3\": lambda df: df[\"gross_profit\"]\n",
    "            / df[\"gross profit / sales\"],\n",
    "            \"sales_method_8\": lambda df: df[\"sales_method_3\"].combine_first(\n",
    "                df[\"sales_method_1\"]\n",
    "            ),\n",
    "            \"short_term_liabilities_from_APD2\": lambda df: (\n",
    "                df[\"(short-term liabilities *365) / sales\"] / 365\n",
    "            )\n",
    "            * df[\"sales_method_8\"],\n",
    "        }\n",
    "    )\n",
    "    return new_df[[\"short_term_liabilities_from_APD2\",]]"
   ]
  },
  {
   "cell_type": "code",
   "execution_count": null,
   "metadata": {},
   "outputs": [],
   "source": [
    "df_with_short_term_liabilities_from_APD1 = calculate_short_term_liabilities_from_APD1(\n",
    "    df\n",
    ")\n",
    "df_with_short_term_liabilities_from_APD2 = calculate_short_term_liabilities_from_APD2(\n",
    "    df\n",
    ")\n",
    "short_term_liabilities_df = (\n",
    "    df_with_short_term_liabilities_from_APD1.join(df_with_current_liabilities)\n",
    "    .join(df_with_short_term_liabilities_from_APD2)\n",
    "    .join(preprocessed_df)[\n",
    "        [\n",
    "            \"short_term_liabilities\",\n",
    "            \"short_term_liabilities_from_APD1\",\n",
    "            \"short_term_liabilities_from_APD2\",\n",
    "            \"current_liabilities\",\n",
    "        ]\n",
    "    ]\n",
    ")\n",
    "short_term_liabilities_df.sample(10)"
   ]
  },
  {
   "cell_type": "code",
   "execution_count": null,
   "metadata": {},
   "outputs": [],
   "source": [
    "compare_col(\n",
    "    short_term_liabilities_df,\n",
    "    \"short_term_liabilities_from_APD2\",\n",
    "    \"current_liabilities\",\n",
    "    atol=100,\n",
    ").dropna(subset=[\"current_liabilities\"])"
   ]
  },
  {
   "cell_type": "code",
   "execution_count": null,
   "metadata": {},
   "outputs": [],
   "source": [
    "compare_col(\n",
    "    short_term_liabilities_df, \"short_term_liabilities\", \"current_liabilities\", atol=100\n",
    ").dropna(subset=[\"current_liabilities\"])"
   ]
  },
  {
   "cell_type": "code",
   "execution_count": null,
   "metadata": {},
   "outputs": [],
   "source": []
  }
 ],
 "metadata": {
  "kernelspec": {
   "display_name": "company_default",
   "language": "python",
   "name": "company_default"
  },
  "language_info": {
   "codemirror_mode": {
    "name": "ipython",
    "version": 3
   },
   "file_extension": ".py",
   "mimetype": "text/x-python",
   "name": "python",
   "nbconvert_exporter": "python",
   "pygments_lexer": "ipython3",
   "version": "3.7.1"
  }
 },
 "nbformat": 4,
 "nbformat_minor": 2
}
