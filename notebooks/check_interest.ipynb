{
 "cells": [
  {
   "cell_type": "code",
   "execution_count": null,
   "metadata": {},
   "outputs": [],
   "source": [
    "import pandas as pd\n",
    "\n",
    "pd.set_option(\"display.max_columns\", None)\n",
    "from IPython.core.display import display, HTML\n",
    "\n",
    "display(HTML(\"<style>.container { width:100% !important; }</style>\"))\n",
    "import numpy as np\n",
    "\n",
    "import plotly.figure_factory as ff\n",
    "import plotly.express as px\n",
    "import seaborn as sns\n",
    "import matplotlib.pyplot as plt\n",
    "\n",
    "%load_ext nb_black"
   ]
  },
  {
   "cell_type": "code",
   "execution_count": null,
   "metadata": {},
   "outputs": [],
   "source": [
    "df = pd.read_csv(\"../data/input/train.csv\", index_col=\"company_id\")"
   ]
  },
  {
   "cell_type": "code",
   "execution_count": null,
   "metadata": {},
   "outputs": [],
   "source": [
    "df.info()"
   ]
  },
  {
   "cell_type": "code",
   "execution_count": null,
   "metadata": {},
   "outputs": [],
   "source": [
    "def compare_col(df, col1, col2, atol, rtol=0, sample=True):\n",
    "    mask = np.isclose(df[col1], df[col2], atol=atol, rtol=rtol)\n",
    "    print(\n",
    "        f\"Number of rows which have absolute difference more than {atol}: {len(df[~mask])}\"\n",
    "    )\n",
    "    if sample:\n",
    "        return df[~mask].sample(10)\n",
    "    else:\n",
    "        return df[~mask]"
   ]
  },
  {
   "cell_type": "markdown",
   "metadata": {},
   "source": [
    "### calculate interest\n",
    "\n",
    "1. use (gross profit + interest)/ total assets\n",
    "2. use (gross profit + interest)/ sales\n",
    "\n",
    "interest_method_1 has only one missing value but only one non-zero value\n",
    "interest_method_2 has 22 missing values but 5914 non-zero value"
   ]
  },
  {
   "cell_type": "code",
   "execution_count": null,
   "metadata": {},
   "outputs": [],
   "source": [
    "def calculate_interest(df):\n",
    "    new_df = df.assign(\n",
    "        **{\n",
    "            \"total_assets\": 10 ** df[\"logarithm of total assets\"],\n",
    "            \"sales_method_1\": lambda df: df[\"sales / total assets\"]\n",
    "            * df[\"total_assets\"],\n",
    "            \"gross_profit\": lambda df: df[\"gross profit / total assets\"]\n",
    "            * df[\"total_assets\"],\n",
    "            \"sales_method_3\": lambda df: df[\"gross_profit\"]\n",
    "            / df[\"gross profit / sales\"],\n",
    "            \"sales_method_8\": lambda df: df[\"sales_method_3\"].combine_first(\n",
    "                df[\"sales_method_1\"]\n",
    "            ),\n",
    "            \"interest_method_1\": lambda df: (\n",
    "                df[\"(gross profit + interest) / total assets\"] * df[\"total_assets\"]\n",
    "            )\n",
    "            - df[\"gross_profit\"],\n",
    "            \"interest_method_2\": lambda df: (\n",
    "                df[\"(gross profit + interest) / sales\"] * df[\"sales_method_8\"]\n",
    "            )\n",
    "            - df[\"gross_profit\"],\n",
    "        }\n",
    "    )\n",
    "    return new_df[[\"interest_method_1\", \"interest_method_2\"]]"
   ]
  },
  {
   "cell_type": "code",
   "execution_count": null,
   "metadata": {},
   "outputs": [],
   "source": [
    "df_with_interest = calculate_interest(df)\n",
    "df_with_interest.sample(10)"
   ]
  },
  {
   "cell_type": "code",
   "execution_count": null,
   "metadata": {},
   "outputs": [],
   "source": [
    "# exclude very small numbers which are close to zero by rounding them\n",
    "df_with_interest[df_with_interest.interest_method_2.round() != 0].dropna(\n",
    "    subset=[\"interest_method_2\"]\n",
    ")"
   ]
  },
  {
   "cell_type": "markdown",
   "metadata": {},
   "source": [
    "### Compare interest_method_2 with financial expenses\n",
    "\n",
    "financial expenses has 1310 missing values but only 3 zeros\n",
    "\n",
    "there are 5374 rows which have differences more than 100 so interest and financial expenses might represent different accounting values"
   ]
  },
  {
   "cell_type": "code",
   "execution_count": null,
   "metadata": {},
   "outputs": [],
   "source": [
    "def calculate_financial_expenses(df):\n",
    "    new_df = df.assign(\n",
    "        **{\n",
    "            \"total_assets\": 10 ** df[\"logarithm of total assets\"],\n",
    "            \"profit_on_operating_activities\": lambda df: df[\n",
    "                \"profit on operating activities / total assets\"\n",
    "            ]\n",
    "            * df[\"total_assets\"],\n",
    "            \"financial_expenses\": lambda df: df[\"profit_on_operating_activities\"]\n",
    "            / df[\"profit on operating activities / financial expenses\"],\n",
    "        }\n",
    "    )\n",
    "    return new_df[[\"financial_expenses\"]]"
   ]
  },
  {
   "cell_type": "code",
   "execution_count": null,
   "metadata": {},
   "outputs": [],
   "source": [
    "df_with_financial_expenses = calculate_financial_expenses(df)\n",
    "df_with_financial_expenses.sample(10)"
   ]
  },
  {
   "cell_type": "code",
   "execution_count": null,
   "metadata": {},
   "outputs": [],
   "source": [
    "joined_df = df_with_interest.join(df_with_financial_expenses)\n",
    "compare_col(\n",
    "    joined_df, \"financial_expenses\", \"interest_method_2\", atol=100,\n",
    ")"
   ]
  }
 ],
 "metadata": {
  "kernelspec": {
   "display_name": "company_default",
   "language": "python",
   "name": "company_default"
  },
  "language_info": {
   "codemirror_mode": {
    "name": "ipython",
    "version": 3
   },
   "file_extension": ".py",
   "mimetype": "text/x-python",
   "name": "python",
   "nbconvert_exporter": "python",
   "pygments_lexer": "ipython3",
   "version": "3.7.1"
  }
 },
 "nbformat": 4,
 "nbformat_minor": 2
}
