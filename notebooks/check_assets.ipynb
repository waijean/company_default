{
 "cells": [
  {
   "cell_type": "code",
   "execution_count": null,
   "metadata": {},
   "outputs": [],
   "source": [
    "import pandas as pd\n",
    "\n",
    "pd.set_option(\"display.max_columns\", None)\n",
    "from IPython.core.display import display, HTML\n",
    "\n",
    "display(HTML(\"<style>.container { width:100% !important; }</style>\"))\n",
    "import numpy as np\n",
    "\n",
    "import plotly.figure_factory as ff\n",
    "import plotly.express as px\n",
    "import seaborn as sns\n",
    "import matplotlib.pyplot as plt\n",
    "\n",
    "%load_ext nb_black"
   ]
  },
  {
   "cell_type": "code",
   "execution_count": null,
   "metadata": {},
   "outputs": [],
   "source": [
    "df = pd.read_csv(\"../data/train.csv\", index_col=\"company_id\")"
   ]
  },
  {
   "cell_type": "code",
   "execution_count": null,
   "metadata": {},
   "outputs": [],
   "source": [
    "df.info()"
   ]
  },
  {
   "cell_type": "markdown",
   "metadata": {},
   "source": [
    "### calculate current assets\n",
    "\n",
    "1. use current assets / total liabilities (19 missing and 0 zero)\n",
    "2. use current assets / short-term liabilities (43 missing and 0 zero)\n",
    "\n",
    "Excluding missing values, both ways of calculating current assets gives the same answer (within absolute tolerance of 100).\n",
    "\n",
    "However, method 1 gives us less missing values so we will choose method 1."
   ]
  },
  {
   "cell_type": "code",
   "execution_count": null,
   "metadata": {},
   "outputs": [],
   "source": [
    "def calculate_current_assets(df):\n",
    "    new_df = df.assign(\n",
    "        **{\n",
    "            \"total_assets\": 10 ** df[\"logarithm of total assets\"],\n",
    "            \"total_liabilities\": lambda df: df[\"total liabilities / total assets\"]\n",
    "            * df[\"total_assets\"],\n",
    "            \"short_term_liabilities\": lambda df: df[\n",
    "                \"short-term liabilities / total assets\"\n",
    "            ]\n",
    "            * df[\"total_assets\"],\n",
    "            \"current_assets_method_1\": lambda df: df[\n",
    "                \"current assets / total liabilities\"\n",
    "            ]\n",
    "            * df[\"total_liabilities\"],\n",
    "            \"current_assets_method_2\": lambda df: df[\n",
    "                \"current assets / short-term liabilities\"\n",
    "            ]\n",
    "            * df[\"short_term_liabilities\"],\n",
    "        }\n",
    "    )\n",
    "    return new_df[\n",
    "        [\n",
    "            \"total_assets\",\n",
    "            \"total_liabilities\",\n",
    "            \"short_term_liabilities\",\n",
    "            \"current_assets_method_1\",\n",
    "            \"current_assets_method_2\",\n",
    "            \"bankruptcy_label\",\n",
    "        ]\n",
    "    ]"
   ]
  },
  {
   "cell_type": "code",
   "execution_count": null,
   "metadata": {},
   "outputs": [],
   "source": [
    "preprocessed_df = calculate_current_assets(df)\n",
    "preprocessed_df.sample(10)"
   ]
  },
  {
   "cell_type": "code",
   "execution_count": null,
   "metadata": {},
   "outputs": [],
   "source": [
    "def compare_col(df, col1, col2, atol, rtol=0, sample=True):\n",
    "    mask = np.isclose(df[col1], df[col2], atol=atol, rtol=rtol)\n",
    "    print(\n",
    "        f\"Number of rows which have absolute difference more than {atol}: {len(df[~mask])}\"\n",
    "    )\n",
    "    if sample:\n",
    "        return df[~mask].sample(10)\n",
    "    else:\n",
    "        return df[~mask]\n",
    "\n",
    "\n",
    "compare_col(\n",
    "    preprocessed_df, [\"current_assets_method_1\"], [\"current_assets_method_2\"], atol=100,\n",
    ").dropna(subset=[\"current_assets_method_1\", \"current_assets_method_2\"])"
   ]
  },
  {
   "cell_type": "markdown",
   "metadata": {},
   "source": [
    "### calculate inventory\n",
    "\n",
    "1. use (inventory * 365) / sales (21 missing and 599 zeros)\n",
    "2. use (inventory * 365) / cost of products sold (73 missing and 603 zeros)\n",
    "3. use sales / inventory (614 missing and 6 zeros)\n",
    "4. use net profit / inventory (613 missing and 44 zeros)\n",
    "5. use (current assets - inventory) / short-term liabilities (43 missing and 0 zero)\n",
    "\n",
    "Compare method 1 and method 3 (same total number of missing values and zeros).\n",
    "\n",
    "Excluding missing values, both ways of calculating inventory gives the same answer (within absolute tolerance of 100).\n",
    "\n",
    "However, we will use method 1 because it preserves the original missing and zeros."
   ]
  },
  {
   "cell_type": "code",
   "execution_count": null,
   "metadata": {},
   "outputs": [],
   "source": [
    "def calculate_inventory(df):\n",
    "    new_df = df.assign(\n",
    "        **{\n",
    "            \"total_assets\": 10 ** df[\"logarithm of total assets\"],\n",
    "            \"sales_method_1\": lambda df: df[\"sales / total assets\"]\n",
    "            * df[\"total_assets\"],\n",
    "            \"gross_profit\": lambda df: df[\"gross profit / total assets\"]\n",
    "            * df[\"total_assets\"],\n",
    "            \"sales_method_3\": lambda df: df[\"gross_profit\"]\n",
    "            / df[\"gross profit / sales\"],\n",
    "            \"sales_method_8\": lambda df: df[\"sales_method_3\"].combine_first(\n",
    "                df[\"sales_method_1\"]\n",
    "            ),\n",
    "            \"inventory_method_1\": lambda df: (df[\"(inventory * 365) / sales\"] / 365)\n",
    "            * df[\"sales_method_8\"],\n",
    "            \"inventory_method_3\": lambda df: df[\"sales_method_8\"]\n",
    "            / df[\"sales / inventory\"],\n",
    "        }\n",
    "    )\n",
    "    return new_df[[\"inventory_method_1\", \"inventory_method_3\"]]"
   ]
  },
  {
   "cell_type": "code",
   "execution_count": null,
   "metadata": {},
   "outputs": [],
   "source": [
    "preprocessed_df = calculate_inventory(df)\n",
    "preprocessed_df.sample(10)\n",
    "preprocessed_df[preprocessed_df[\"inventory_method_3\"].isna()]"
   ]
  },
  {
   "cell_type": "code",
   "execution_count": null,
   "metadata": {},
   "outputs": [],
   "source": [
    "compare_col(\n",
    "    preprocessed_df, [\"inventory_method_1\"], [\"inventory_method_3\"], atol=100,\n",
    ").dropna(subset=[\"inventory_method_1\", \"inventory_method_3\"])"
   ]
  },
  {
   "cell_type": "markdown",
   "metadata": {},
   "source": [
    "### calculate receivables\n",
    "\n",
    "1. use (receivables * 365) / sales (21 missing and 31 zeros)\n",
    "2. use sales / receivables (32 missing and 20 zeros)\n",
    "3. use (current assets - inventory - receivables) / short-term liabilities (43 missing and 8 zeros)\n",
    "\n",
    "Compare method 1 and 2 (same total number of missing values and zeros)\n",
    "\n",
    "Excluding missing values, both ways of calculating receivables gives the same answer (within absolute tolerance of 100).\n",
    "\n",
    "However, we will use method 1 because it preserves the original missing and zeros."
   ]
  },
  {
   "cell_type": "code",
   "execution_count": null,
   "metadata": {},
   "outputs": [],
   "source": [
    "def calculate_receivables(df):\n",
    "    new_df = df.assign(\n",
    "        **{\n",
    "            \"total_assets\": 10 ** df[\"logarithm of total assets\"],\n",
    "            \"sales_method_1\": lambda df: df[\"sales / total assets\"]\n",
    "            * df[\"total_assets\"],\n",
    "            \"gross_profit\": lambda df: df[\"gross profit / total assets\"]\n",
    "            * df[\"total_assets\"],\n",
    "            \"sales_method_3\": lambda df: df[\"gross_profit\"]\n",
    "            / df[\"gross profit / sales\"],\n",
    "            \"sales_method_8\": lambda df: df[\"sales_method_3\"].combine_first(\n",
    "                df[\"sales_method_1\"]\n",
    "            ),\n",
    "            \"receivables_method_1\": lambda df: (df[\"(receivables * 365) / sales\"] / 365)\n",
    "            * df[\"sales_method_8\"],\n",
    "            \"receivables_method_2\": lambda df: df[\"sales_method_8\"]\n",
    "            / df[\"sales / receivables\"],\n",
    "        }\n",
    "    )\n",
    "    return new_df[[\"receivables_method_1\", \"receivables_method_2\"]]"
   ]
  },
  {
   "cell_type": "code",
   "execution_count": null,
   "metadata": {},
   "outputs": [],
   "source": [
    "preprocessed_df = calculate_receivables(df)\n",
    "preprocessed_df.sample(10)"
   ]
  },
  {
   "cell_type": "code",
   "execution_count": null,
   "metadata": {},
   "outputs": [],
   "source": [
    "compare_col(\n",
    "    preprocessed_df, [\"receivables_method_1\"], [\"receivables_method_2\"], atol=100,\n",
    ").dropna(subset=[\"receivables_method_1\", \"receivables_method_2\"])"
   ]
  },
  {
   "cell_type": "markdown",
   "metadata": {},
   "source": [
    "### calculate fixed assets\n",
    "\n",
    "1. use working capital / fixed assets (231 missing and 0 zero)\n",
    "2. use equity / fixed assets (231 missing and 1 zero) \n",
    "3. use constant capital / fixed assets (231 missing and 1 zero)\n",
    "4. use sales / fixed assets (231 missing and 19 zero)\n",
    "\n",
    "Compare method 1, 2 and 3.\n",
    "\n",
    "Method 2 and 3 almost always reconcile but method 1 deviates quite a lot sometimes. This further confirms that working capital might not be correct.\n",
    "\n",
    "We will use method 2."
   ]
  },
  {
   "cell_type": "code",
   "execution_count": null,
   "metadata": {},
   "outputs": [],
   "source": [
    "def calculate_fixed_assets(df):\n",
    "    new_df = df.assign(\n",
    "        **{\n",
    "            \"total_assets\": 10 ** df[\"logarithm of total assets\"],\n",
    "            \"equity\": lambda df: df[\"equity / total assets\"] * df[\"total_assets\"],\n",
    "            \"constant_capital\": lambda df: df[\"constant capital / total assets\"]\n",
    "            * df[\"total_assets\"],\n",
    "            \"fixed_assets_method_1\": lambda df: df[\"working capital\"]\n",
    "            / df[\"working capital / fixed assets\"],\n",
    "            \"fixed_assets_method_2\": lambda df: df[\"equity\"]\n",
    "            / df[\"equity / fixed assets\"],\n",
    "            \"fixed_assets_method_3\": lambda df: df[\"constant_capital\"]\n",
    "            / df[\"constant capital / fixed assets\"],\n",
    "        }\n",
    "    )\n",
    "    return new_df[\n",
    "        [\n",
    "            \"fixed_assets_method_1\",\n",
    "            \"fixed_assets_method_2\",\n",
    "            \"fixed_assets_method_3\",\n",
    "            \"bankruptcy_label\",\n",
    "        ]\n",
    "    ]"
   ]
  },
  {
   "cell_type": "code",
   "execution_count": null,
   "metadata": {},
   "outputs": [],
   "source": [
    "preprocessed_df = calculate_fixed_assets(df)\n",
    "preprocessed_df.sample(10)"
   ]
  },
  {
   "cell_type": "code",
   "execution_count": null,
   "metadata": {},
   "outputs": [],
   "source": [
    "compare_col(\n",
    "    preprocessed_df, [\"fixed_assets_method_1\"], [\"fixed_assets_method_2\"], atol=100,\n",
    ").dropna(subset=[\"fixed_assets_method_1\", \"fixed_assets_method_2\"])"
   ]
  },
  {
   "cell_type": "code",
   "execution_count": null,
   "metadata": {},
   "outputs": [],
   "source": [
    "compare_col(\n",
    "    preprocessed_df, [\"fixed_assets_method_3\"], [\"fixed_assets_method_2\"], atol=100,\n",
    ").dropna(subset=[\"fixed_assets_method_3\", \"fixed_assets_method_2\"])"
   ]
  },
  {
   "cell_type": "markdown",
   "metadata": {},
   "source": [
    "### calculate working capital\n",
    "\n",
    "1. calculate working capital using current assets - short-term liabilities\n",
    "2. use the original working capital column\n",
    "\n",
    "213 rows have working capital differences more than 100.\n",
    "\n",
    "Combine first method 1 with method 2 since the original working capital column might be wrong according to other reconciliation methods."
   ]
  },
  {
   "cell_type": "code",
   "execution_count": null,
   "metadata": {},
   "outputs": [],
   "source": [
    "def calculate_working_capital(df):\n",
    "    new_df = df.assign(\n",
    "        **{\n",
    "            \"total_assets\": 10 ** df[\"logarithm of total assets\"],\n",
    "            \"total_liabilities\": lambda df: df[\"total liabilities / total assets\"]\n",
    "            * df[\"total_assets\"],\n",
    "            \"short_term_liabilities\": lambda df: df[\n",
    "                \"short-term liabilities / total assets\"\n",
    "            ]\n",
    "            * df[\"total_assets\"],\n",
    "            \"current_assets_method_1\": lambda df: df[\n",
    "                \"current assets / total liabilities\"\n",
    "            ]\n",
    "            * df[\"total_liabilities\"],\n",
    "            \"calculated_working_capital\": lambda df: df[\"current_assets_method_1\"]\n",
    "            - df[\"short_term_liabilities\"],\n",
    "        }\n",
    "    )\n",
    "    return new_df[\n",
    "        [\"calculated_working_capital\", \"working capital\", \"bankruptcy_label\",]\n",
    "    ]"
   ]
  },
  {
   "cell_type": "code",
   "execution_count": null,
   "metadata": {},
   "outputs": [],
   "source": [
    "preprocessed_df = calculate_working_capital(df)\n",
    "preprocessed_df.sample(10)"
   ]
  },
  {
   "cell_type": "code",
   "execution_count": null,
   "metadata": {},
   "outputs": [],
   "source": [
    "compare_col(\n",
    "    preprocessed_df, [\"calculated_working_capital\"], [\"working capital\"], atol=100,\n",
    ").dropna(subset=[\"calculated_working_capital\", \"working capital\"])"
   ]
  },
  {
   "cell_type": "code",
   "execution_count": null,
   "metadata": {},
   "outputs": [],
   "source": [
    "preprocessed_df[preprocessed_df[\"calculated_working_capital\"].isna()]"
   ]
  },
  {
   "cell_type": "code",
   "execution_count": null,
   "metadata": {},
   "outputs": [],
   "source": []
  }
 ],
 "metadata": {
  "kernelspec": {
   "display_name": "company_default",
   "language": "python",
   "name": "company_default"
  },
  "language_info": {
   "codemirror_mode": {
    "name": "ipython",
    "version": 3
   },
   "file_extension": ".py",
   "mimetype": "text/x-python",
   "name": "python",
   "nbconvert_exporter": "python",
   "pygments_lexer": "ipython3",
   "version": "3.7.1"
  }
 },
 "nbformat": 4,
 "nbformat_minor": 4
}
