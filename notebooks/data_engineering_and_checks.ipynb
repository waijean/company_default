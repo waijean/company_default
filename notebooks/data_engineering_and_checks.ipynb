{
 "cells": [
  {
   "cell_type": "code",
   "execution_count": null,
   "metadata": {},
   "outputs": [],
   "source": [
    "%load_ext nb_black"
   ]
  },
  {
   "cell_type": "code",
   "execution_count": null,
   "metadata": {},
   "outputs": [],
   "source": [
    "import pandas as pd\n",
    "import numpy as np"
   ]
  },
  {
   "cell_type": "code",
   "execution_count": null,
   "metadata": {},
   "outputs": [],
   "source": [
    "DATA_DIR = \"../train.csv\"\n",
    "df = pd.read_csv(DATA_DIR)\n",
    "df.head()"
   ]
  },
  {
   "cell_type": "code",
   "execution_count": null,
   "metadata": {},
   "outputs": [],
   "source": [
    "df.isna().sum().sort_values().index.to_list()"
   ]
  },
  {
   "cell_type": "code",
   "execution_count": null,
   "metadata": {},
   "outputs": [],
   "source": [
    "def get_raw_columns(df):\n",
    "    return df.assign(\n",
    "        **{\n",
    "            \"COMPANY_ID\": df[\"company_id\"],\n",
    "            \"WORKING_CAPITAL\": df[\"working capital\"],\n",
    "            \"TOTAL_ASSETS\": lambda _df: _df[\"WORKING_CAPITAL\"]\n",
    "            / _df[\"working capital / total assets\"],\n",
    "            \"LOG_TOTAL_ASSETS\": df[\"logarithm of total assets\"],\n",
    "            \"SALES\": lambda _df: _df[\"TOTAL_ASSETS\"] * _df[\"sales / total assets\"],\n",
    "            \"SHORT_TERM_LIABILITIES\": lambda _df: _df[\"TOTAL_ASSETS\"]\n",
    "            * _df[\"short-term liabilities / total assets\"],\n",
    "            \"CONSTANT_CAPITAL\": lambda _df: _df[\"TOTAL_ASSETS\"]\n",
    "            * _df[\"constant capital / total assets\"],\n",
    "            \"NET_PROFIT\": lambda _df: _df[\"TOTAL_ASSETS\"]\n",
    "            * _df[\"net profit / total assets\"],\n",
    "            \"TOTAL_SALES\": lambda _df: _df[\"TOTAL_ASSETS\"]\n",
    "            * _df[\"total sales / total assets\"],\n",
    "            \"PROFIT_ON_SALES\": lambda _df: _df[\"TOTAL_ASSETS\"]\n",
    "            * _df[\"profit on sales / total assets\"],\n",
    "            \"PROFIT_ON_OPERATING_ACTIVITIES\": lambda _df: _df[\"TOTAL_ASSETS\"]\n",
    "            * _df[\"profit on operating activities / total assets\"],\n",
    "            \"GROSS_PROFIT\": lambda _df: _df[\"TOTAL_ASSETS\"]\n",
    "            * _df[\"gross profit / total assets\"],\n",
    "            \"EBITDA\": df[\n",
    "                \"EBITDA (profit on operating activities - depreciation) / total assets\"\n",
    "            ],\n",
    "            \"DEPRECIATION\": lambda _df: -(\n",
    "                _df[\"TOTAL_ASSETS\"]\n",
    "                * df[\n",
    "                    \"EBITDA (profit on operating activities - depreciation) / total assets\"\n",
    "                ]\n",
    "                - _df[\"PROFIT_ON_OPERATING_ACTIVITIES\"]\n",
    "            ),\n",
    "            \"RETAINED_EARNINGS\": lambda _df: _df[\"TOTAL_ASSETS\"]\n",
    "            * _df[\"retained earnings / total assets\"],\n",
    "            \"EBIT\": lambda _df: _df[\"TOTAL_ASSETS\"] * _df[\"EBIT / total assets\"],\n",
    "            \"INTEREST\": lambda _df: _df[\"TOTAL_ASSETS\"]\n",
    "            * _df[\"(gross profit + interest) / total assets\"]\n",
    "            - _df[\"GROSS_PROFIT\"],\n",
    "            \"TOTAL_LIABILITIES\": lambda _df: _df[\"TOTAL_ASSETS\"]\n",
    "            * _df[\"total liabilities / total assets\"],\n",
    "            \"EQUITY\": lambda _df: _df[\"TOTAL_ASSETS\"] * _df[\"equity / total assets\"],\n",
    "            \"LONG_TERM_LIABILITIES\": lambda _df: _df[\"EQUITY\"]\n",
    "            * _df[\"long-term liabilities / equity\"],\n",
    "            \"SHARE_CAPITAL\": lambda _df: -(\n",
    "                _df[\"TOTAL_ASSETS\"] * _df[\"(equity - share capital) / total assets\"]\n",
    "                - _df[\"EQUITY\"]\n",
    "            ),\n",
    "            \"TOTAL_COSTS\": lambda _df: _df[\"TOTAL_SALES\"]\n",
    "            * _df[\"total costs /total sales\"],\n",
    "            \"CURRENT_ASSETS\": lambda _df: _df[\"TOTAL_LIABILITIES\"]\n",
    "            * _df[\"current assets / total liabilities\"],\n",
    "            \"INVENTORY\": lambda _df: -(\n",
    "                _df[\n",
    "                    \"(current assets - inventory - short-term liabilities) / (sales - gross profit - depreciation)\"\n",
    "                ]\n",
    "                * (_df[\"SALES\"] - _df[\"GROSS_PROFIT\"] - _df[\"DEPRECIATION\"])\n",
    "                - _df[\"CURRENT_ASSETS\"]\n",
    "                - _df[\"SHORT_TERM_LIABILITIES\"]\n",
    "            ),\n",
    "            \"BOOK_VALUE_OF_EQUITY\": lambda _df: _df[\"TOTAL_ASSETS\"]\n",
    "            * _df[\"book value of equity / total liabilities\"],\n",
    "            \"OPERATING_EXPENSES\": lambda _df: _df[\"TOTAL_LIABILITIES\"]\n",
    "            * _df[\"operating expenses / total liabilities\"],\n",
    "            \"CASH\": lambda _df: -(\n",
    "                _df[\"SALES\"] * _df[\"(total liabilities - cash) / sales\"]\n",
    "                - _df[\"TOTAL_LIABILITIES\"]\n",
    "            ),\n",
    "            \"RECEIVABLES\": lambda _df: _df[\"SALES\"]\n",
    "            * _df[\"(receivables * 365) / sales\"]\n",
    "            / 365,\n",
    "            \"SHORT_TERM_SECURITIES\": lambda _df: (\n",
    "                _df[\n",
    "                    \"[(cash + short-term securities + receivables - short-term liabilities) / (operating expenses - depreciation)] * 365\"\n",
    "                ]\n",
    "                / 365\n",
    "            )\n",
    "            * (_df[\"OPERATING_EXPENSES\"] - _df[\"DEPRECIATION\"])\n",
    "            - _df[\"CASH\"]\n",
    "            - _df[\"RECEIVABLES\"]\n",
    "            + _df[\"SHORT_TERM_LIABILITIES\"],\n",
    "            \"COST_OF_PRODUCTS_SOLD\": lambda _df: -(\n",
    "                _df[\"SALES\"] * (_df[\"(sales - cost of products sold) / sales\"] - 1)\n",
    "            ),\n",
    "            \"SALES_N_OVER_LAST_SALES\": df[\"sales (n) / sales (n-1)\"],\n",
    "            \"GROSS_PROFIT_IN_3_YEARS\": lambda _df: _df[\"TOTAL_ASSETS\"]\n",
    "            * _df[\"gross profit (in 3 years) / total assets\"],\n",
    "            \"FIXED_ASSETS\": lambda _df: _df[\"EQUITY\"] / _df[\"equity / fixed assets\"],\n",
    "            \"FINANCIAL_EXPENSES\": lambda _df: np.where(\n",
    "                _df[\"PROFIT_ON_OPERATING_ACTIVITIES\"] == 0,\n",
    "                0,\n",
    "                _df[\"PROFIT_ON_OPERATING_ACTIVITIES\"]\n",
    "                / _df[\"profit on operating activities / financial expenses\"],\n",
    "            ),\n",
    "            \"EXTRAORDINARY_ITEMS\": lambda _df: _df[\"TOTAL_ASSETS\"]\n",
    "            * _df[\n",
    "                \"(gross profit + extraordinary items + financial expenses) / total assets\"\n",
    "            ]\n",
    "            - _df[\"GROSS_PROFIT\"]\n",
    "            - _df[\"FINANCIAL_EXPENSES\"],\n",
    "            \"INVENTORIES\": lambda _df: _df[\"TOTAL_ASSETS\"]\n",
    "            * _df[\"(current assets - inventories) / long-term liabilities\"],\n",
    "            \"ROTATION_RECEIVABLES_PLUS_INVENTORY_TURNOVER_IN_DAYS\": df[\n",
    "                \"rotation receivables + inventory turnover in days\"\n",
    "            ],\n",
    "            \"BANKRUPTCY_LABEL\": df[\"bankruptcy_label\"],\n",
    "        }\n",
    "    ).loc[:, \"COMPANY_ID\":]"
   ]
  },
  {
   "cell_type": "code",
   "execution_count": null,
   "metadata": {},
   "outputs": [],
   "source": [
    "def assign_number_of_null_values_per_row(df):\n",
    "    return df.assign(**{\"NULL_VALUE_COUNT\": df.isna().sum(axis=1)})\n",
    "\n",
    "\n",
    "# def remove_companies_with_null_values(df):\n",
    "#     return df.loc[\n",
    "#         (~df[\"TOTAL_ASSETS\"].isna())\n",
    "#         & (~df[\"LONG_TERM_LIABILITIES\"].isna())\n",
    "#         & (~df[\"SHORT_TERM_SECURITIES\"].isna())\n",
    "#         & (~df[\"TOTAL_COSTS\"].isna())\n",
    "#     ]\n",
    "\n",
    "\n",
    "def remove_companies_with_null_values(df):\n",
    "    # todo: maybe we should explicitly remove the row using that company_id?\n",
    "    return df.loc[(~df[\"TOTAL_ASSETS\"].isna())]\n",
    "\n",
    "\n",
    "def remove_duplicates(df):\n",
    "    # todo: need to try different combination of cols to find other possible duplicates\n",
    "    cols = list(df.columns)\n",
    "    cols.remove(\"COMPANY_ID\")\n",
    "    return df.drop_duplicates(cols)"
   ]
  },
  {
   "cell_type": "code",
   "execution_count": null,
   "metadata": {},
   "outputs": [],
   "source": [
    "preprocessed_df = (\n",
    "    df.pipe(get_raw_columns)\n",
    "    .pipe(assign_number_of_null_values_per_row)\n",
    "    .pipe(remove_companies_with_null_values)\n",
    "    .pipe(remove_duplicates)\n",
    ")"
   ]
  },
  {
   "cell_type": "code",
   "execution_count": null,
   "metadata": {},
   "outputs": [],
   "source": [
    "preprocessed_df.isna().sum().sort_values(ascending=False)"
   ]
  },
  {
   "cell_type": "code",
   "execution_count": null,
   "metadata": {},
   "outputs": [],
   "source": [
    "preprocessed_df.loc[\n",
    "    preprocessed_df.duplicated(\"WORKING_CAPITAL\", keep=False)\n",
    "].sort_values(\"WORKING_CAPITAL\")"
   ]
  },
  {
   "cell_type": "code",
   "execution_count": null,
   "metadata": {},
   "outputs": [],
   "source": [
    "# couldn't save fixed assets\n",
    "# can we recalculate gross profit in 3 years ??\n",
    "# extraordinary items depend on FINANCIAL_EXPENSES\n",
    "\n",
    "preprocessed_df.loc[(~preprocessed_df[\"TOTAL_ASSETS\"].isna())].isna().sum().sort_values(\n",
    "    ascending=False\n",
    ")"
   ]
  },
  {
   "cell_type": "markdown",
   "metadata": {},
   "source": [
    "# Checks"
   ]
  },
  {
   "cell_type": "markdown",
   "metadata": {},
   "source": [
    "### Check values if inverting formula of given column"
   ]
  },
  {
   "cell_type": "code",
   "execution_count": null,
   "metadata": {},
   "outputs": [],
   "source": [
    "def check_equal_values_by_inverting(\n",
    "    df, orig_col, col_to_be_inverted, divide_by_365=False\n",
    "):\n",
    "    test_df = df[[orig_col, col_to_be_inverted]].assign(\n",
    "        **{\n",
    "            \"INVERTED_COL\": (1 / df[col_to_be_inverted]) * 365\n",
    "            if divide_by_365\n",
    "            else 1 / df[col_to_be_inverted],\n",
    "            \"DIFF\": lambda _df: _df[orig_col] - _df[\"INVERTED_COL\"],\n",
    "            \"DIFF_RATIO\": lambda _df: abs(_df[\"DIFF\"] / _df[orig_col]),\n",
    "        },\n",
    "    )\n",
    "    return test_df\n"
   ]
  },
  {
   "cell_type": "code",
   "execution_count": null,
   "metadata": {},
   "outputs": [],
   "source": [
    "check_equal_values_by_inverting(\n",
    "    df, \"total liabilities / total assets\", \"total assets / total liabilities\"\n",
    ").sort_values(\"DIFF_RATIO\", ascending=False)[:60]"
   ]
  },
  {
   "cell_type": "code",
   "execution_count": null,
   "metadata": {},
   "outputs": [],
   "source": [
    "check_equal_values_by_inverting(\n",
    "    df,\n",
    "    \"(short-term liabilities *365) / sales\",\n",
    "    \"sales / short-term liabilities\",\n",
    "    divide_by_365=True,\n",
    ").sort_values(\"DIFF_RATIO\", ascending=False)[:60]"
   ]
  },
  {
   "cell_type": "code",
   "execution_count": null,
   "metadata": {},
   "outputs": [],
   "source": [
    "check_equal_values_by_inverting(\n",
    "    df, \"(receivables * 365) / sales\", \"sales / receivables\", divide_by_365=True,\n",
    ").sort_values(\"DIFF_RATIO\", ascending=False)[:60]"
   ]
  },
  {
   "cell_type": "markdown",
   "metadata": {},
   "source": [
    "### Check different derivations"
   ]
  },
  {
   "cell_type": "code",
   "execution_count": null,
   "metadata": {},
   "outputs": [],
   "source": [
    "def check_different_depreciation_derivations(df):\n",
    "    return df.assign(\n",
    "        **{\n",
    "            \"WORKING_CAPITAL\": df[\"working capital\"],\n",
    "            \"TOTAL_ASSETS\": lambda _df: _df[\"WORKING_CAPITAL\"]\n",
    "            / _df[\"working capital / total assets\"],\n",
    "            \"SALES\": lambda _df: _df[\"TOTAL_ASSETS\"] * _df[\"sales / total assets\"],\n",
    "            \"NET_PROFIT\": lambda _df: _df[\"TOTAL_ASSETS\"]\n",
    "            * _df[\"net profit / total assets\"],\n",
    "            \"TOTAL_LIABILITIES\": lambda _df: _df[\"TOTAL_ASSETS\"]\n",
    "            * _df[\"total liabilities / total assets\"],\n",
    "            \"GROSS_PROFIT\": lambda _df: _df[\"TOTAL_ASSETS\"]\n",
    "            * _df[\"gross profit / total assets\"],\n",
    "            \"PROFIT_ON_OPERATING_ACTIVITIES\": lambda _df: _df[\"TOTAL_ASSETS\"]\n",
    "            * _df[\"profit on operating activities / total assets\"],\n",
    "            \"DEPRECIATION1\": lambda _df: -(\n",
    "                _df[\"TOTAL_ASSETS\"]\n",
    "                * df[\n",
    "                    \"EBITDA (profit on operating activities - depreciation) / total assets\"\n",
    "                ]\n",
    "                - _df[\"PROFIT_ON_OPERATING_ACTIVITIES\"]\n",
    "            ),\n",
    "            \"DEPRECIATION2\": lambda _df: -(\n",
    "                _df[\"SALES\"]\n",
    "                * _df[\"EBITDA (profit on operating activities - depreciation) / sales\"]\n",
    "                - _df[\"PROFIT_ON_OPERATING_ACTIVITIES\"]\n",
    "            ),\n",
    "            \"DEPRECIATION3\": lambda _df: _df[\"SALES\"]\n",
    "            * _df[\"(gross profit + depreciation) / sales\"]\n",
    "            - _df[\"GROSS_PROFIT\"],\n",
    "            \"DEPRECIATION4\": lambda _df: _df[\"TOTAL_LIABILITIES\"]\n",
    "            * _df[\"(gross profit + depreciation) / total liabilities\"]\n",
    "            - _df[\"GROSS_PROFIT\"],\n",
    "            \"DEPRECIATION5\": lambda _df: _df[\"TOTAL_LIABILITIES\"]\n",
    "            * _df[\"(net profit + depreciation) / total liabilities\"]\n",
    "            - _df[\"NET_PROFIT\"],\n",
    "        }\n",
    "    ).loc[:, \"DEPRECIATION1\":]"
   ]
  },
  {
   "cell_type": "code",
   "execution_count": null,
   "metadata": {},
   "outputs": [],
   "source": [
    "check_different_depreciation_derivations(df)[:60]"
   ]
  },
  {
   "cell_type": "code",
   "execution_count": null,
   "metadata": {},
   "outputs": [],
   "source": [
    "def check_equal_values_derived_from_sales_and_total_assets(df, total_assets_col, sales_col, invert_sales_col=False):\n",
    "\n",
    "    test_df = df.assign(\n",
    "        **{\n",
    "            \"TOTAL_ASSETS\": 1 / (df[\"working capital / total assets\"] / df[\"working capital\"]),\n",
    "            \"SALES\": lambda _df: _df[\"TOTAL_ASSETS\"] * _df[\"sales / total assets\"],\n",
    "            \"DERIVED_FROM_SALES\": lambda _df: _df[\"SALES\"]\n",
    "            * (1/_df[sales_col]) if invert_sales_col else _df[\"SALES\"]\n",
    "            * _df[sales_col],\n",
    "            \"DERIVED_FROM_TA\": lambda _df: _df[\"TOTAL_ASSETS\"]\n",
    "            * _df[total_assets_col],\n",
    "            \"DIFF\": lambda _df: _df['DERIVED_FROM_SALES'] - _df[\"DERIVED_FROM_TA\"],\n",
    "            \"DIFF_RATIO\": lambda _df: abs(_df['DIFF']/_df[\"DERIVED_FROM_TA\"])\n",
    "        },\n",
    "    )[\n",
    "        [\n",
    "            \"DERIVED_FROM_SALES\",\n",
    "            \"DERIVED_FROM_TA\",\n",
    "            \"DIFF\",\n",
    "            \"DIFF_RATIO\",\n",
    "        ]\n",
    "    ]\n",
    "\n",
    "    return test_df\n"
   ]
  },
  {
   "cell_type": "code",
   "execution_count": null,
   "metadata": {},
   "outputs": [],
   "source": [
    "check_equal_values_derived_from_sales_and_total_assets(\n",
    "    df,\n",
    "    \"profit on operating activities / total assets\",\n",
    "    \"profit on operating activities / sales\",\n",
    ").sort_values(\"DIFF_RATIO\", ascending=False)[:60]"
   ]
  },
  {
   "cell_type": "code",
   "execution_count": null,
   "metadata": {},
   "outputs": [],
   "source": [
    "check_equal_values_derived_from_sales_and_total_assets(\n",
    "    df, \"gross profit / total assets\", \"gross profit / sales\"\n",
    ").sort_values(\"DIFF_RATIO\", ascending=False)[:60]"
   ]
  },
  {
   "cell_type": "code",
   "execution_count": null,
   "metadata": {},
   "outputs": [],
   "source": [
    "check_equal_values_derived_from_sales_and_total_assets(\n",
    "    df, \"profit on sales / total assets\", \"profit on sales / sales\"\n",
    ").sort_values(\"DIFF_RATIO\", ascending=False)[:60]"
   ]
  },
  {
   "cell_type": "code",
   "execution_count": null,
   "metadata": {},
   "outputs": [],
   "source": [
    "check_equal_values_derived_from_sales_and_total_assets(\n",
    "    df, \"net profit / total assets\", \"net profit / sales\"\n",
    ").sort_values(\"DIFF_RATIO\", ascending=False)[:60]"
   ]
  },
  {
   "cell_type": "code",
   "execution_count": null,
   "metadata": {},
   "outputs": [],
   "source": [
    "check_equal_values_derived_from_sales_and_total_assets(\n",
    "    df,\n",
    "    \"EBITDA (profit on operating activities - depreciation) / total assets\",\n",
    "    \"EBITDA (profit on operating activities - depreciation) / sales\",\n",
    ").sort_values(\"DIFF_RATIO\", ascending=False)[:60]"
   ]
  },
  {
   "cell_type": "code",
   "execution_count": null,
   "metadata": {},
   "outputs": [],
   "source": [
    "check_equal_values_derived_from_sales_and_total_assets(\n",
    "    df, \"(gross profit + interest) / total assets\", \"(gross profit + interest) / sales\"\n",
    ").sort_values(\"DIFF_RATIO\", ascending=False)[:60]"
   ]
  },
  {
   "cell_type": "code",
   "execution_count": null,
   "metadata": {},
   "outputs": [],
   "source": [
    "def check_log_total_assets(df):\n",
    "    return df.assign(\n",
    "        **{\n",
    "            \"TOTAL_ASSETS\": (1 / df[\"working capital / total assets\"])\n",
    "            * df[\"working capital\"],\n",
    "            \"LOG_TOTAL_ASSETS\": lambda _df: np.log10(_df[\"TOTAL_ASSETS\"]),\n",
    "            \"DIFF\": lambda _df: _df[\"logarithm of total assets\"]\n",
    "            - _df[\"LOG_TOTAL_ASSETS\"],\n",
    "            \"DIFF_RATIO\": lambda _df: abs(\n",
    "                _df[\"DIFF\"] / _df[\"logarithm of total assets\"]\n",
    "            ),\n",
    "        }\n",
    "    )[\n",
    "        [\n",
    "            \"TOTAL_ASSETS\",\n",
    "            \"logarithm of total assets\",\n",
    "            \"LOG_TOTAL_ASSETS\",\n",
    "            \"DIFF\",\n",
    "            \"DIFF_RATIO\",\n",
    "        ]\n",
    "    ]"
   ]
  },
  {
   "cell_type": "code",
   "execution_count": null,
   "metadata": {},
   "outputs": [],
   "source": [
    "check_log_total_assets(df).sort_values(\"DIFF_RATIO\", ascending=False)[:60]"
   ]
  },
  {
   "cell_type": "code",
   "execution_count": null,
   "metadata": {},
   "outputs": [],
   "source": [
    "def check_long_and_short_term_liabilities_equate_total_liabilities(df):\n",
    "    return df.assign(\n",
    "        **{\n",
    "            \"TOTAL_ASSETS\": df[\"working capital\"]\n",
    "            / df[\"working capital / total assets\"],\n",
    "            \"EQUITY\": lambda _df: _df[\"TOTAL_ASSETS\"] * _df[\"equity / total assets\"],\n",
    "            \"SHORT_TERM_LIABILITIES\": lambda _df: _df[\"TOTAL_ASSETS\"]\n",
    "            * _df[\"short-term liabilities / total assets\"],\n",
    "            \"LONG_TERM_LIABILITIES\": lambda _df: _df[\"EQUITY\"]\n",
    "            * _df[\"long-term liabilities / equity\"],\n",
    "            \"TOTAL_LIABILITIES\": lambda _df: _df[\"TOTAL_ASSETS\"]\n",
    "            * _df[\"total liabilities / total assets\"],\n",
    "            \"CALCULATED_TOTAL_LIABILITIES\": lambda _df: (\n",
    "                _df[\"SHORT_TERM_LIABILITIES\"] + _df[\"LONG_TERM_LIABILITIES\"]\n",
    "            ),\n",
    "            \"DIFF\": lambda _df: _df[\"TOTAL_LIABILITIES\"]\n",
    "            - _df[\"CALCULATED_TOTAL_LIABILITIES\"],\n",
    "            \"DIFF_RATIO\": lambda _df: abs(_df[\"DIFF\"] / _df[\"TOTAL_LIABILITIES\"]),\n",
    "        }\n",
    "    ).loc[:, \"SHORT_TERM_LIABILITIES\":]"
   ]
  },
  {
   "cell_type": "code",
   "execution_count": null,
   "metadata": {},
   "outputs": [],
   "source": [
    "check_long_and_short_term_liabilities_equate_total_liabilities(df).sort_values(\n",
    "    \"DIFF_RATIO\", ascending=False\n",
    ")[:60]"
   ]
  },
  {
   "cell_type": "code",
   "execution_count": null,
   "metadata": {},
   "outputs": [],
   "source": []
  }
 ],
 "metadata": {
  "kernelspec": {
   "display_name": "venv",
   "language": "python",
   "name": "venv"
  },
  "language_info": {
   "codemirror_mode": {
    "name": "ipython",
    "version": 3
   },
   "file_extension": ".py",
   "mimetype": "text/x-python",
   "name": "python",
   "nbconvert_exporter": "python",
   "pygments_lexer": "ipython3",
   "version": "3.7.0"
  }
 },
 "nbformat": 4,
 "nbformat_minor": 4
}
