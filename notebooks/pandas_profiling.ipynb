{
 "cells": [
  {
   "cell_type": "code",
   "execution_count": null,
   "metadata": {},
   "outputs": [],
   "source": [
    "import pandas as pd\n",
    "from pandas_profiling import ProfileReport\n",
    "\n",
    "%load_ext nb_black"
   ]
  },
  {
   "cell_type": "markdown",
   "metadata": {},
   "source": [
    "### For ratio, output the profile to this folder \"../data/profile/ratio/\""
   ]
  },
  {
   "cell_type": "code",
   "execution_count": null,
   "metadata": {},
   "outputs": [],
   "source": [
    "# df = pd.read_csv(\"../data/input/train.csv\", index_col=\"company_id\")"
   ]
  },
  {
   "cell_type": "markdown",
   "metadata": {},
   "source": [
    "### For raw, output the profile to this folder \"../data/profile/raw/\""
   ]
  },
  {
   "cell_type": "code",
   "execution_count": null,
   "metadata": {},
   "outputs": [],
   "source": [
    "df = pd.read_csv(\"../data/output/cleaned_raw_train.csv\", index_col=\"company_id\")"
   ]
  },
  {
   "cell_type": "markdown",
   "metadata": {},
   "source": [
    "### full pandas profiling (DO NOT RUN THIS)\n",
    "output file is 254MB and it takes 30 minutes"
   ]
  },
  {
   "cell_type": "code",
   "execution_count": null,
   "metadata": {},
   "outputs": [],
   "source": [
    "prof = ProfileReport(df)\n",
    "prof.to_file(output_file=\"../data/profile/ratio/pandas_profiling_full.html\")"
   ]
  },
  {
   "cell_type": "markdown",
   "metadata": {},
   "source": [
    "### Use minimal mode\n",
    "\n",
    "Only has variable section\n",
    "\n",
    "output file is 2MB and it takes less than a minute"
   ]
  },
  {
   "cell_type": "code",
   "execution_count": null,
   "metadata": {},
   "outputs": [],
   "source": [
    "profile = ProfileReport(df, minimal=True)\n",
    "profile.to_file(\"../data/profile/raw/pandas_profiling_minimal.html\")"
   ]
  },
  {
   "cell_type": "markdown",
   "metadata": {},
   "source": [
    "### Use sample mode"
   ]
  },
  {
   "cell_type": "code",
   "execution_count": null,
   "metadata": {},
   "outputs": [],
   "source": [
    "sample_df = large_dataset.sample(1000)\n",
    "\n",
    "profile = ProfileReport(sample)\n",
    "profile.to_file(\"../data/profile/ratio/pandas_profiling_sample.html\")"
   ]
  },
  {
   "cell_type": "markdown",
   "metadata": {},
   "source": [
    "### Use custom mode \n",
    "\n",
    "\n",
    "Only disable interactions between features (this is the main cause of huge file size in the full mode since it generates 2^64 scatter plots)"
   ]
  },
  {
   "cell_type": "code",
   "execution_count": null,
   "metadata": {},
   "outputs": [],
   "source": [
    "profile = ProfileReport(\n",
    "    df,\n",
    "    interactions={\"targets\": [\"bankruptcy_label\"]},\n",
    "    plot={\"histogram\": {\"bayesian_blocks_bins\": True}},\n",
    "    missing_diagrams=None,\n",
    ")\n",
    "profile.to_file(\"../data/profile/ratio/pandas_profiling_custom.html\")"
   ]
  },
  {
   "cell_type": "markdown",
   "metadata": {},
   "source": [
    "### df.info().to_csv()"
   ]
  },
  {
   "cell_type": "code",
   "execution_count": null,
   "metadata": {},
   "outputs": [],
   "source": [
    "df_datatypes = pd.DataFrame(df.dtypes.rename(\"dtype\"))\n",
    "df_non_null_count = df.count().rename(\"Non Null Count\")\n",
    "info_df = df_datatypes.join(df_non_null_count)\n",
    "info_df.to_csv(\"../data/ratio_info_df.csv\")"
   ]
  },
  {
   "cell_type": "code",
   "execution_count": null,
   "metadata": {},
   "outputs": [],
   "source": []
  }
 ],
 "metadata": {
  "kernelspec": {
   "display_name": "company_default",
   "language": "python",
   "name": "company_default"
  },
  "language_info": {
   "codemirror_mode": {
    "name": "ipython",
    "version": 3
   },
   "file_extension": ".py",
   "mimetype": "text/x-python",
   "name": "python",
   "nbconvert_exporter": "python",
   "pygments_lexer": "ipython3",
   "version": "3.7.1"
  }
 },
 "nbformat": 4,
 "nbformat_minor": 2
}
