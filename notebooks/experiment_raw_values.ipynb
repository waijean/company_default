{
 "cells": [
  {
   "cell_type": "code",
   "execution_count": null,
   "metadata": {},
   "outputs": [],
   "source": [
    "import pandas as pd\n",
    "\n",
    "pd.set_option(\"display.max_columns\", None)\n",
    "from IPython.core.display import display, HTML\n",
    "\n",
    "display(HTML(\"<style>.container { width:100% !important; }</style>\"))\n",
    "import numpy as np\n",
    "\n",
    "import plotly.figure_factory as ff\n",
    "import plotly.express as px\n",
    "import seaborn as sns\n",
    "import matplotlib.pyplot as plt\n",
    "\n",
    "%load_ext nb_black"
   ]
  },
  {
   "cell_type": "code",
   "execution_count": null,
   "metadata": {},
   "outputs": [],
   "source": [
    "df = pd.read_csv(\"../data/train.csv\", index_col=0)"
   ]
  },
  {
   "cell_type": "code",
   "execution_count": null,
   "metadata": {},
   "outputs": [],
   "source": [
    "df.info()"
   ]
  },
  {
   "cell_type": "markdown",
   "metadata": {},
   "source": [
    "## calculate assets\n",
    "\n",
    "We can calculate assets using 2 different methods\n",
    "\n",
    "1. logarithm of total assets (1 missing and 0 zero)\n",
    "2. working capital and working capital / total assets (1 missing and 0 zero) \n",
    "\n",
    "The second method have 31 rows which have negative assets"
   ]
  },
  {
   "cell_type": "code",
   "execution_count": null,
   "metadata": {},
   "outputs": [],
   "source": [
    "def calculate_assets(df):\n",
    "    new_df = df.assign(\n",
    "        **{\n",
    "            \"total_assets_method_1\": 10 ** df[\"logarithm of total assets\"],\n",
    "            \"total_assets_method_2\": lambda df: df[\"working capital\"]\n",
    "            / df[\"working capital / total assets\"],\n",
    "        }\n",
    "    )\n",
    "    return new_df[\n",
    "        [\n",
    "            \"logarithm of total assets\",\n",
    "            \"working capital\",\n",
    "            \"working capital / total assets\",\n",
    "            \"total_assets_method_1\",\n",
    "            \"total_assets_method_2\",\n",
    "            \"bankruptcy_label\",\n",
    "        ]\n",
    "    ]"
   ]
  },
  {
   "cell_type": "code",
   "execution_count": null,
   "metadata": {},
   "outputs": [],
   "source": [
    "preprocessed_df = calculate_assets(df)\n",
    "\n",
    "\n",
    "def check_negative_assets(df, asset_col):\n",
    "    mask = df[asset_col] < 0\n",
    "    print(f\"Number of rows which have negative assets: {len(df[mask])}\")\n",
    "    return df[mask]\n",
    "\n",
    "\n",
    "check_negative_assets(preprocessed_df, \"total_assets_method_2\")"
   ]
  },
  {
   "cell_type": "markdown",
   "metadata": {},
   "source": [
    "## calculate sales \n",
    "\n",
    "We can calculate sales using 7 different methods\n",
    "\n",
    "1. sales / total assets (0 missing and 21 zeros)\n",
    "2. total sales / total assets (1 missing and 4 zeros)\n",
    "3. gross profit / total assets and gross profit / sales (21 missing & 8 zeros) \n",
    "4. net profit / total assets and net profit / sales (21 missing & 45 zeros)\n",
    "5. profit on sales / total assets and profit on sales / sales (21 missing & 51 zeros)\n",
    "6. EBITDA / total assets and EBITDA / sales (21 missing & 213 zeros)\n",
    "7. profit on operating activities  / total assets and profit on operating activities  / sales (21 missing & 892 zeros)\n",
    "\n",
    "We will check the first four methods.\n",
    "\n",
    "Sales calculated using Method 1 vs Method 3 have 3000 rows where absolute difference is more than 1000.\n",
    "\n",
    "Proposed solution:\n",
    "8. Combine first method 3, then method 1"
   ]
  },
  {
   "cell_type": "code",
   "execution_count": null,
   "metadata": {},
   "outputs": [],
   "source": [
    "def calculate_sales(df):\n",
    "    new_df = df.assign(\n",
    "        **{\n",
    "            \"total_assets\": 10 ** df[\"logarithm of total assets\"],\n",
    "            \"sales_method_1\": lambda df: df[\"sales / total assets\"]\n",
    "            * df[\"total_assets\"],\n",
    "            \"sales_method_2\": lambda df: df[\"total sales / total assets\"]\n",
    "            * df[\"total_assets\"],\n",
    "            \"net_profit\": lambda df: df[\"net profit / total assets\"]\n",
    "            * df[\"total_assets\"],\n",
    "            \"gross_profit\": lambda df: df[\"gross profit / total assets\"]\n",
    "            * df[\"total_assets\"],\n",
    "            \"sales_method_3\": lambda df: df[\"gross_profit\"]\n",
    "            / df[\"gross profit / sales\"],\n",
    "            \"sales_method_4\": lambda df: df[\"net_profit\"] / df[\"net profit / sales\"],\n",
    "            \"sales_method_8\": lambda df: df[\"sales_method_3\"].combine_first(\n",
    "                df[\"sales_method_1\"]\n",
    "            ),\n",
    "        }\n",
    "    )\n",
    "    return new_df[\n",
    "        [\n",
    "            \"logarithm of total assets\",\n",
    "            \"sales / total assets\",\n",
    "            \"total_assets\",\n",
    "            \"sales_method_1\",\n",
    "            \"sales_method_2\",\n",
    "            \"sales_method_3\",\n",
    "            \"sales_method_4\",\n",
    "            \"sales_method_8\",\n",
    "            \"net_profit\",\n",
    "            \"gross_profit\",\n",
    "            \"bankruptcy_label\",\n",
    "        ]\n",
    "    ]"
   ]
  },
  {
   "cell_type": "code",
   "execution_count": null,
   "metadata": {},
   "outputs": [],
   "source": [
    "def compare_col(df, col1, col2, atol, sample=True):\n",
    "    mask = np.isclose(df[col1], df[col2], atol=atol)\n",
    "    print(\n",
    "        f\"Number of rows which have absolute difference more than {atol}: {len(df[~mask])}\"\n",
    "    )\n",
    "    if sample:\n",
    "        return df[~mask].sample(10)\n",
    "    else:\n",
    "        return df[~mask]\n",
    "\n",
    "\n",
    "# calculate_sales(df).sample(20)\n",
    "preprocessed_df = calculate_sales(df)\n",
    "compare_col(preprocessed_df, \"sales_method_3\", \"sales_method_8\", atol=1000)"
   ]
  },
  {
   "cell_type": "code",
   "execution_count": null,
   "metadata": {},
   "outputs": [],
   "source": [
    "preprocessed_df = calculate_sales(df)\n",
    "\n",
    "sns.distplot(preprocessed_df[\"sales_method_1\"], label=\"Sales Method 1\")\n",
    "sns.distplot(preprocessed_df[\"sales_method_2\"], label=\"Sales Method 2\")\n",
    "sns.distplot(preprocessed_df[\"sales_method_3\"], label=\"Sales Method 3\")\n",
    "plt.legend()"
   ]
  },
  {
   "cell_type": "markdown",
   "metadata": {},
   "source": [
    "### assert net profit less than sales\n",
    "\n",
    "- There are 32 cases where net profit is bigger than sales when using method 1\n",
    "- There are 41 cases where net profit is bigger than sales when using method 3"
   ]
  },
  {
   "cell_type": "code",
   "execution_count": null,
   "metadata": {},
   "outputs": [],
   "source": [
    "preprocessed_df = calculate_sales(df)\n",
    "mask = preprocessed_df[\"net_profit\"] < preprocessed_df[\"sales_method_3\"]\n",
    "print(len(preprocessed_df[~mask].dropna()))\n",
    "preprocessed_df[~mask].dropna()"
   ]
  },
  {
   "cell_type": "code",
   "execution_count": null,
   "metadata": {},
   "outputs": [],
   "source": [
    "df['sales / total assets'].describe()"
   ]
  },
  {
   "cell_type": "code",
   "execution_count": null,
   "metadata": {},
   "outputs": [],
   "source": [
    "mask = df[\"sales / total assets\"] < df[\"net profit / total assets\"]\n",
    "print(len(df[mask]))\n",
    "df.loc[mask, [\"sales / total assets\", \"net profit / total assets\"]]"
   ]
  },
  {
   "cell_type": "markdown",
   "metadata": {},
   "source": [
    "## check depreciation\n",
    "\n",
    "Depreciation can be calculated via 3 different methods:\n",
    "\n",
    "1. '(gross profit + depreciation) / sales' (21 missing and 8 zeros)\n",
    "2. (gross profit + depreciation) / total liabilities' (19 missing and 1 zero)\n",
    "3. '(net profit + depreciation) / total liabilities' (19 missing and 8 zeros)\n",
    "\n",
    "Note: Total liabilities is first calculated via total liabilities / total assets (1 missing and 18 zeros)\n",
    "\n",
    "If we use sales method 1 to reconcile the depreciation calculated using different methods, we get 2919 rows where the depreciation difference is more than 100.\n",
    "\n",
    "However, if we use sales method 3 to reconcile the depreciation, we only get 42 rows where the depreciation difference is more than 100. Furthermore, the reason majority of these 42 rows cannot reconcile is because\n",
    "either depreciation method 1 is null or depreciation method 2 is null.\n",
    "\n",
    "Extra:\n",
    "We can combine depreciation method 2 with depreciation method 1 to reduce the null values of depreciations"
   ]
  },
  {
   "cell_type": "code",
   "execution_count": null,
   "metadata": {},
   "outputs": [],
   "source": [
    "def check_depreciation(df, sales_method):\n",
    "    new_df = df.assign(\n",
    "        **{\n",
    "            \"total_assets\": 10 ** df[\"logarithm of total assets\"],\n",
    "            \"sales_method_1\": lambda df: df[\"sales / total assets\"]\n",
    "            * df[\"total_assets\"],\n",
    "            \"sales_method_2\": lambda df: df[\"total sales / total assets\"]\n",
    "            * df[\"total_assets\"],\n",
    "            \"net_profit\": lambda df: df[\"net profit / total assets\"]\n",
    "            * df[\"total_assets\"],\n",
    "            \"gross_profit\": lambda df: df[\"gross profit / total assets\"]\n",
    "            * df[\"total_assets\"],\n",
    "            \"sales_method_3\": lambda df: df[\"gross_profit\"]\n",
    "            / df[\"gross profit / sales\"],\n",
    "            \"sales_method_4\": lambda df: df[\"net_profit\"] / df[\"net profit / sales\"],\n",
    "            \"sales_method_8\": lambda df: df[\"sales_method_3\"].combine_first(\n",
    "                df[\"sales_method_1\"]\n",
    "            ),\n",
    "            \"total_liabilities\": lambda df: df[\"total liabilities / total assets\"]\n",
    "            * df[\"total_assets\"],\n",
    "            \"depreciation_method_1\": lambda df: (\n",
    "                df[\"(gross profit + depreciation) / sales\"] * df[sales_method]\n",
    "            )\n",
    "            - df[\"gross_profit\"],\n",
    "            \"depreciation_method_2\": lambda df: (\n",
    "                df[\"(gross profit + depreciation) / total liabilities\"]\n",
    "                * df[\"total_liabilities\"]\n",
    "            )\n",
    "            - df[\"gross_profit\"],\n",
    "            \"depreciation_method_3\": lambda df: (\n",
    "                df[\"(net profit + depreciation) / total liabilities\"]\n",
    "                * df[\"total_liabilities\"]\n",
    "            )\n",
    "            - df[\"net_profit\"],\n",
    "            \"depreciation_method_4\": lambda df: df[\n",
    "                \"depreciation_method_2\"\n",
    "            ].combine_first(df[\"depreciation_method_1\"]),\n",
    "        }\n",
    "    )\n",
    "    return new_df[\n",
    "        [\n",
    "            \"logarithm of total assets\",\n",
    "            \"sales / total assets\",\n",
    "            \"total_assets\",\n",
    "            \"sales_method_1\",\n",
    "            \"sales_method_2\",\n",
    "            \"sales_method_3\",\n",
    "            \"sales_method_4\",\n",
    "            \"sales_method_8\",\n",
    "            \"depreciation_method_1\",\n",
    "            \"depreciation_method_2\",\n",
    "            \"depreciation_method_3\",\n",
    "            \"depreciation_method_4\",\n",
    "            \"bankruptcy_label\",\n",
    "        ]\n",
    "    ]"
   ]
  },
  {
   "cell_type": "code",
   "execution_count": null,
   "metadata": {},
   "outputs": [],
   "source": [
    "preprocessed_df = check_depreciation(df, sales_method=\"sales_method_3\")\n",
    "\n",
    "compare_col(\n",
    "    preprocessed_df,\n",
    "    \"depreciation_method_1\",\n",
    "    \"depreciation_method_2\",\n",
    "    atol=100,\n",
    "    sample=True,\n",
    ")"
   ]
  },
  {
   "cell_type": "code",
   "execution_count": null,
   "metadata": {},
   "outputs": [],
   "source": [
    "preprocessed_df.isna().sum()"
   ]
  }
 ],
 "metadata": {
  "kernelspec": {
   "display_name": "company_default",
   "language": "python",
   "name": "company_default"
  },
  "language_info": {
   "codemirror_mode": {
    "name": "ipython",
    "version": 3
   },
   "file_extension": ".py",
   "mimetype": "text/x-python",
   "name": "python",
   "nbconvert_exporter": "python",
   "pygments_lexer": "ipython3",
   "version": "3.7.1"
  }
 },
 "nbformat": 4,
 "nbformat_minor": 2
}
